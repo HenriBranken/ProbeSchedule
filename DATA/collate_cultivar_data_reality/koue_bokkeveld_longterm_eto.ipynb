{
 "cells": [
  {
   "cell_type": "code",
   "execution_count": 1,
   "metadata": {},
   "outputs": [],
   "source": [
    "import numpy as np\n",
    "import datetime\n",
    "from datetime import timedelta\n",
    "import pandas as pd\n",
    "import matplotlib as matplotlib\n",
    "import matplotlib.pyplot as plt\n",
    "from platform import python_version"
   ]
  },
  {
   "cell_type": "code",
   "execution_count": 5,
   "metadata": {},
   "outputs": [
    {
     "name": "stdout",
     "output_type": "stream",
     "text": [
      "(2010, 24, 3)\n",
      "<class 'int'>\n"
     ]
    }
   ],
   "source": [
    "import datetime\n",
    "datestamp = datetime.date(2010, 6, 16)\n",
    "print(datestamp.isocalendar())\n",
    "# This returns (ISO year, ISO weeknumber, ISO weekday)\n",
    "\n",
    "print(type(datestamp.isocalendar()[1]))\n",
    "# The weeknumber is of type `int`"
   ]
  },
  {
   "cell_type": "code",
   "execution_count": 12,
   "metadata": {},
   "outputs": [
    {
     "name": "stdout",
     "output_type": "stream",
     "text": [
      "49\n",
      "49\n",
      "True\n"
     ]
    }
   ],
   "source": [
    "calendar_week = np.array([25, 26, 27, 28, 29, 30, 31, 32, 33, 34,\n",
    "                          35, 36, 37, 38, 39, 40, 41, 42, 43, 44, \n",
    "                          45, 46, 47, 48, 49,  1,  2,  3,  4,  5,\n",
    "                           6,  7,  8,  9, 10, 11, 12, 13, 14, 15,\n",
    "                          16, 17, 18, 19, 20, 21, 22, 23, 24])\n",
    "\n",
    "kbv_eto = np.array([2.3, 2.3, 2.3, 2.3, 2.3, 2.4, 2.5, 2.65, 2.8, 3.1,\n",
    "                    3.4, 3.65, 4.0, 4.4, 4.8, 5.3, 5.8, 6.3, 6.7, 7.1,\n",
    "                    7.6, 8.0, 8.3, 8.6, 8.8, 8.9, 8.9, 8.9, 8.8, 8.7,\n",
    "                    8.5, 8.3, 8.0, 7.5, 7.0, 6.5, 5.8, 5.2, 4.7, 4.3,\n",
    "                    3.7, 3.4, 3.1, 2.8, 2.5, 2.45, 2.4, 2.35, 2.3])"
   ]
  },
  {
   "cell_type": "code",
   "execution_count": 19,
   "metadata": {},
   "outputs": [
    {
     "name": "stdout",
     "output_type": "stream",
     "text": [
      "[25 26 27 28 29 30 31 32 33 34 35 36 37 38 39 40 41 42 43 44 45 46 47 48\n",
      " 49  1  2  3  4  5  6  7  8  9 10 11 12 13 14 15 16 17 18 19 20 21 22 23\n",
      " 24]\n",
      "[2.3  2.3  2.3  2.3  2.3  2.4  2.5  2.65 2.8  3.1  3.4  3.65 4.   4.4\n",
      " 4.8  5.3  5.8  6.3  6.7  7.1  7.6  8.   8.3  8.6  8.8  8.9  8.9  8.9\n",
      " 8.8  8.7  8.5  8.3  8.   7.5  7.   6.5  5.8  5.2  4.7  4.3  3.7  3.4\n",
      " 3.1  2.8  2.5  2.45 2.4  2.35 2.3 ]\n"
     ]
    }
   ],
   "source": [
    "print(calendar_week[:])\n",
    "print(kbv_eto[:])"
   ]
  },
  {
   "cell_type": "code",
   "execution_count": 26,
   "metadata": {},
   "outputs": [
    {
     "name": "stdout",
     "output_type": "stream",
     "text": [
      "<class 'pandas.core.frame.DataFrame'>\n",
      "Int64Index: 49 entries, 25 to 24\n",
      "Data columns (total 1 columns):\n",
      "kbv_eto    49 non-null float64\n",
      "dtypes: float64(1)\n",
      "memory usage: 784.0 bytes\n"
     ]
    }
   ],
   "source": [
    "df_kbv = pd.DataFrame(data=kbv_eto[:], index=calendar_week[:], columns=[\"kbv_eto\"])\n",
    "df_kbv.info()"
   ]
  },
  {
   "cell_type": "code",
   "execution_count": 29,
   "metadata": {},
   "outputs": [
    {
     "data": {
      "text/plain": [
       "numpy.float64"
      ]
     },
     "execution_count": 29,
     "metadata": {},
     "output_type": "execute_result"
    }
   ],
   "source": [
    "type(df_kbv.loc[2, \"kbv_eto\"])"
   ]
  }
 ],
 "metadata": {
  "kernelspec": {
   "display_name": "Python 3",
   "language": "python",
   "name": "python3"
  },
  "language_info": {
   "codemirror_mode": {
    "name": "ipython",
    "version": 3
   },
   "file_extension": ".py",
   "mimetype": "text/x-python",
   "name": "python",
   "nbconvert_exporter": "python",
   "pygments_lexer": "ipython3",
   "version": "3.6.8"
  }
 },
 "nbformat": 4,
 "nbformat_minor": 2
}
